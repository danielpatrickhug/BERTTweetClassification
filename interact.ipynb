{
 "cells": [
  {
   "cell_type": "code",
   "execution_count": 20,
   "metadata": {},
   "outputs": [],
   "source": [
    "from main import BertSentClassification\n",
    "import pytorch_lightning as pl\n",
    "import pandas as pd\n",
    "from transformers import AutoModelForSequenceClassification, AutoTokenizer, AutoModel\n",
    "from keras.preprocessing.sequence import pad_sequences\n",
    "import torch as th\n",
    "from torch.utils.data import DataLoader, TensorDataset, RandomSampler, SequentialSampler\n",
    "from sklearn.model_selection import train_test_split\n",
    "\n",
    "bert_tokenizer = AutoTokenizer.from_pretrained(\"bert-base-uncased\")\n",
    "MAX_LEN = 64\n",
    "label2id = {id:id+1 for id in range(-1, 3, 1)}\n",
    "id2label = {v:k for k, v in label2id.items()} # reverse dict\n",
    "\n",
    "def convert_examples_to_features(tweets, labels):\n",
    "    input_ids = [\n",
    "        bert_tokenizer.encode(tweet, add_special_tokens=True) for tweet in tweets\n",
    "    ]\n",
    "    input_ids = pad_sequences(\n",
    "        input_ids,\n",
    "        maxlen=MAX_LEN,\n",
    "        dtype=\"long\",\n",
    "        value=bert_tokenizer.pad_token_id,\n",
    "        padding=\"post\",\n",
    "        truncating=\"post\"\n",
    "    )\n",
    "    input_ids = th.tensor(input_ids)\n",
    "    attention_masks = th.tensor([[int(tok > 0) for tok in tweet] for tweet in input_ids])\n",
    "    labels = th.tensor([label2id[label] for label in labels])\n",
    "\n",
    "    return TensorDataset(input_ids, attention_masks, labels)\n"
   ]
  },
  {
   "cell_type": "code",
   "execution_count": 21,
   "metadata": {},
   "outputs": [],
   "source": [
    "df = pd.read_csv(\"twitter_sentiment_data.csv\")\n",
    "dataset = convert_examples_to_features(df.message, list(df.sentiment))\n",
    "train_data, val_data, train_label, val_labels = train_test_split(\n",
    "    dataset,\n",
    "    list(df.sentiment),\n",
    "    random_state=1234,\n",
    "    test_size=0.2\n",
    ")\n",
    "dataset = {\"train\": train_data, \"val\": val_data}"
   ]
  },
  {
   "cell_type": "markdown",
   "metadata": {},
   "source": [
    "Each tweet is labelled as one of the following classes:\n",
    "  -  2(News): the tweet links to factual news about climate change\n",
    "  -  1(Pro): the tweet supports the belief of man-made climate change\n",
    "  -  0(Neutral: the tweet neither supports nor refutes the belief of man-made climate change\n",
    "  -  -1(Anti): the tweet does not believe in man-made climate change\n"
   ]
  },
  {
   "cell_type": "code",
   "execution_count": 25,
   "metadata": {},
   "outputs": [
    {
     "name": "stdout",
     "output_type": "stream",
     "text": [
      "-1\n"
     ]
    }
   ],
   "source": [
    "    #update the following path to reflect your best model\n",
    "    model = BertSentClassification.load_from_checkpoint(\n",
    "    \"model_checkpoint.ckpt\", \n",
    "    dataset=dataset\n",
    "    )\n",
    "    #Set model in eval mode\n",
    "    model.eval()\n",
    "    input_text = \"global warming is so fake the goverment is tryign to control us\"\n",
    "    labels = [-1]\n",
    "    # Convert examples to features\n",
    "    test_dataset = convert_examples_to_features([input_text], labels=[-1])\n",
    "    input_ids, attention_mask, _ = next(iter(test_dataset))\n",
    "    #add a new axis for both attention mask and inpu_ids\n",
    "    input_ids = input_ids.unsqueeze(0)\n",
    "    attention_mask = attention_mask.unsqueeze(0)\n",
    "    prediction = model(input_ids, attention_mask)\n",
    "    prediction = th.argmax(prediction).item()\n",
    "    print(id2label[prediction])"
   ]
  },
  {
   "cell_type": "code",
   "execution_count": null,
   "metadata": {},
   "outputs": [],
   "source": []
  }
 ],
 "metadata": {
  "kernelspec": {
   "display_name": "Python 3",
   "language": "python",
   "name": "python3"
  },
  "language_info": {
   "codemirror_mode": {
    "name": "ipython",
    "version": 3
   },
   "file_extension": ".py",
   "mimetype": "text/x-python",
   "name": "python",
   "nbconvert_exporter": "python",
   "pygments_lexer": "ipython3",
   "version": "3.8.5"
  }
 },
 "nbformat": 4,
 "nbformat_minor": 4
}
